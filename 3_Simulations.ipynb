{
 "cells": [
  {
   "cell_type": "code",
   "execution_count": 2,
   "metadata": {},
   "outputs": [],
   "source": [
    "import pandas as pd\n",
    "import numpy as np"
   ]
  },
  {
   "cell_type": "code",
   "execution_count": 3,
   "metadata": {},
   "outputs": [
    {
     "data": {
      "text/plain": [
       "[1960, 1965, 1970, 1975, 1980, 1985, 1990, 1995, 2000, 2005, 2010, 2015, 2020]"
      ]
     },
     "execution_count": 3,
     "metadata": {},
     "output_type": "execute_result"
    }
   ],
   "source": [
    "mdf = pd.read_csv('data/movement_df_with_ld.csv', index_col=0)\n",
    "# convert the NaNs in the \"continent_code\" to string \"NA\"\n",
    "mdf['continent_code'] = mdf['continent_code'].fillna('NA')\n",
    "\n",
    "mdf['move_time'] = pd.to_datetime(mdf['move_time'])\n",
    "\n",
    "bins = list(range(1960, 2025, 5))\n",
    "labels = [f'{i}-{i+4}' for i in bins[:-1]]\n",
    "\n",
    "bins"
   ]
  },
  {
   "cell_type": "code",
   "execution_count": 4,
   "metadata": {},
   "outputs": [
    {
     "name": "stderr",
     "output_type": "stream",
     "text": [
      "/var/folders/5z/8hzvmhln5p36t4tdqc9c52z40000gn/T/ipykernel_84840/2841782303.py:3: FutureWarning: The default of observed=False is deprecated and will be changed to True in a future version of pandas. Pass observed=False to retain current behavior or observed=True to adopt the future default and silence this warning.\n",
      "  movement_counts = mdf.groupby(['prev_ins', 'institution_id', 'time_slot', 'level_distance']).size()\n"
     ]
    },
    {
     "ename": "",
     "evalue": "",
     "output_type": "error",
     "traceback": [
      "\u001b[1;31m在当前单元格或上一个单元格中执行代码时 Kernel 崩溃。\n",
      "\u001b[1;31m请查看单元格中的代码，以确定故障的可能原因。\n",
      "\u001b[1;31m单击<a href='https://aka.ms/vscodeJupyterKernelCrash'>此处</a>了解详细信息。\n",
      "\u001b[1;31m有关更多详细信息，请查看 Jupyter <a href='command:jupyter.viewOutput'>log</a>。"
     ]
    }
   ],
   "source": [
    "mdf['time_slot']  = pd.cut(mdf['move_time'].dt.year, bins=bins, labels=labels, right=False)\n",
    "\n",
    "movement_counts = mdf.groupby(['prev_ins', 'institution_id', 'time_slot', 'level_distance'], observed = True).size()\n",
    "\n",
    "movement_counts"
   ]
  },
  {
   "cell_type": "code",
   "execution_count": null,
   "metadata": {},
   "outputs": [],
   "source": [
    "def calculate_simulated_movement(row, df):\n",
    "    time_slot = row['time_slot']\n",
    "    prev_ins = row['prev_ins']\n",
    "    institution_id = row['institution_id']\n",
    "\n",
    "    total_movements = df[df['time_slot'] == time_slot].shape[0]\n",
    "    outflow = df[(df['prev_ins'] == prev_ins) & (df['time_slot'] == time_slot)].shape[0]\n",
    "    inflow = df[(df['institution_id'] == institution_id) & (df['time_slot'] == time_slot)].shape[0]\n",
    "\n",
    "    return (outflow * inflow) / total_movements if total_movements != 0 else 0\n"
   ]
  },
  {
   "cell_type": "code",
   "execution_count": null,
   "metadata": {},
   "outputs": [],
   "source": []
  }
 ],
 "metadata": {
  "kernelspec": {
   "display_name": "ML",
   "language": "python",
   "name": "python3"
  },
  "language_info": {
   "codemirror_mode": {
    "name": "ipython",
    "version": 3
   },
   "file_extension": ".py",
   "mimetype": "text/x-python",
   "name": "python",
   "nbconvert_exporter": "python",
   "pygments_lexer": "ipython3",
   "version": "3.9.13"
  }
 },
 "nbformat": 4,
 "nbformat_minor": 2
}
