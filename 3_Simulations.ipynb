{
 "cells": [
  {
   "cell_type": "code",
   "execution_count": 2,
   "metadata": {},
   "outputs": [
    {
     "data": {
      "text/plain": [
       "'2.2.2'"
      ]
     },
     "execution_count": 2,
     "metadata": {},
     "output_type": "execute_result"
    }
   ],
   "source": [
    "import pandas as pd\n",
    "import numpy as np\n",
    "pd.__version__"
   ]
  },
  {
   "cell_type": "code",
   "execution_count": 3,
   "metadata": {},
   "outputs": [
    {
     "name": "stdout",
     "output_type": "stream",
     "text": [
      "[1960, 1965, 1970, 1975, 1980, 1985, 1990, 1995, 2000, 2005, 2010, 2015, 2020, 2025]\n",
      "['1960-1964', '1965-1969', '1970-1974', '1975-1979', '1980-1984', '1985-1989', '1990-1994', '1995-1999', '2000-2004', '2005-2009', '2010-2014', '2015-2019', '2020-2024']\n"
     ]
    }
   ],
   "source": [
    "mdf = pd.read_csv('data/movement_df_with_ld.csv', index_col=0)\n",
    "# convert the NaNs in the \"continent_code\" to string \"NA\"\n",
    "mdf['continent_code'] = mdf['continent_code'].fillna('NA')\n",
    "\n",
    "mdf['move_time'] = pd.to_datetime(mdf['move_time'])\n",
    "\n",
    "bins = list(range(1960, 2026, 5))\n",
    "labels = [f'{i}-{i+4}' for i in bins[:-1]]\n",
    "\n",
    "print(bins)\n",
    "print(labels)"
   ]
  },
  {
   "cell_type": "code",
   "execution_count": 4,
   "metadata": {},
   "outputs": [
    {
     "data": {
      "text/plain": [
       "['1960-1964',\n",
       " '1965-1969',\n",
       " '1970-1974',\n",
       " '1975-1979',\n",
       " '1980-1984',\n",
       " '1985-1989',\n",
       " '1990-1994',\n",
       " '1995-1999',\n",
       " '2000-2004',\n",
       " '2005-2009',\n",
       " '2010-2014',\n",
       " '2015-2019',\n",
       " '2020-2024']"
      ]
     },
     "execution_count": 4,
     "metadata": {},
     "output_type": "execute_result"
    }
   ],
   "source": [
    "labels"
   ]
  },
  {
   "cell_type": "code",
   "execution_count": 5,
   "metadata": {},
   "outputs": [
    {
     "data": {
      "text/html": [
       "<div>\n",
       "<style scoped>\n",
       "    .dataframe tbody tr th:only-of-type {\n",
       "        vertical-align: middle;\n",
       "    }\n",
       "\n",
       "    .dataframe tbody tr th {\n",
       "        vertical-align: top;\n",
       "    }\n",
       "\n",
       "    .dataframe thead th {\n",
       "        text-align: right;\n",
       "    }\n",
       "</style>\n",
       "<table border=\"1\" class=\"dataframe\">\n",
       "  <thead>\n",
       "    <tr style=\"text-align: right;\">\n",
       "      <th></th>\n",
       "      <th>author_id</th>\n",
       "      <th>institution_id</th>\n",
       "      <th>move_time</th>\n",
       "      <th>prev_ins</th>\n",
       "      <th>stay_time</th>\n",
       "      <th>city</th>\n",
       "      <th>country_code</th>\n",
       "      <th>continent_code</th>\n",
       "      <th>move_year</th>\n",
       "      <th>prev_country</th>\n",
       "      <th>level_distance</th>\n",
       "    </tr>\n",
       "  </thead>\n",
       "  <tbody>\n",
       "  </tbody>\n",
       "</table>\n",
       "</div>"
      ],
      "text/plain": [
       "Empty DataFrame\n",
       "Columns: [author_id, institution_id, move_time, prev_ins, stay_time, city, country_code, continent_code, move_year, prev_country, level_distance]\n",
       "Index: []"
      ]
     },
     "execution_count": 5,
     "metadata": {},
     "output_type": "execute_result"
    }
   ],
   "source": [
    "mdf[mdf['institution_id'] == mdf['prev_ins']]"
   ]
  },
  {
   "cell_type": "code",
   "execution_count": 6,
   "metadata": {},
   "outputs": [
    {
     "data": {
      "text/html": [
       "<div>\n",
       "<style scoped>\n",
       "    .dataframe tbody tr th:only-of-type {\n",
       "        vertical-align: middle;\n",
       "    }\n",
       "\n",
       "    .dataframe tbody tr th {\n",
       "        vertical-align: top;\n",
       "    }\n",
       "\n",
       "    .dataframe thead th {\n",
       "        text-align: right;\n",
       "    }\n",
       "</style>\n",
       "<table border=\"1\" class=\"dataframe\">\n",
       "  <thead>\n",
       "    <tr style=\"text-align: right;\">\n",
       "      <th></th>\n",
       "      <th>prev_ins</th>\n",
       "      <th>institution_id</th>\n",
       "      <th>time_slot</th>\n",
       "      <th>level_distance</th>\n",
       "      <th>counts</th>\n",
       "    </tr>\n",
       "  </thead>\n",
       "  <tbody>\n",
       "    <tr>\n",
       "      <th>0</th>\n",
       "      <td>I100005738</td>\n",
       "      <td>I100191712</td>\n",
       "      <td>2005-2009</td>\n",
       "      <td>1</td>\n",
       "      <td>1</td>\n",
       "    </tr>\n",
       "    <tr>\n",
       "      <th>1</th>\n",
       "      <td>I100005738</td>\n",
       "      <td>I10052268</td>\n",
       "      <td>2015-2019</td>\n",
       "      <td>1</td>\n",
       "      <td>1</td>\n",
       "    </tr>\n",
       "    <tr>\n",
       "      <th>2</th>\n",
       "      <td>I100005738</td>\n",
       "      <td>I10052268</td>\n",
       "      <td>2020-2024</td>\n",
       "      <td>1</td>\n",
       "      <td>1</td>\n",
       "    </tr>\n",
       "    <tr>\n",
       "      <th>3</th>\n",
       "      <td>I100005738</td>\n",
       "      <td>I100538780</td>\n",
       "      <td>1995-1999</td>\n",
       "      <td>1</td>\n",
       "      <td>1</td>\n",
       "    </tr>\n",
       "    <tr>\n",
       "      <th>4</th>\n",
       "      <td>I100005738</td>\n",
       "      <td>I100633361</td>\n",
       "      <td>2015-2019</td>\n",
       "      <td>1</td>\n",
       "      <td>1</td>\n",
       "    </tr>\n",
       "    <tr>\n",
       "      <th>...</th>\n",
       "      <td>...</td>\n",
       "      <td>...</td>\n",
       "      <td>...</td>\n",
       "      <td>...</td>\n",
       "      <td>...</td>\n",
       "    </tr>\n",
       "    <tr>\n",
       "      <th>3214902</th>\n",
       "      <td>I99981631</td>\n",
       "      <td>I4210099175</td>\n",
       "      <td>1990-1994</td>\n",
       "      <td>0</td>\n",
       "      <td>1</td>\n",
       "    </tr>\n",
       "    <tr>\n",
       "      <th>3214903</th>\n",
       "      <td>I99981631</td>\n",
       "      <td>I4210099175</td>\n",
       "      <td>2000-2004</td>\n",
       "      <td>0</td>\n",
       "      <td>3</td>\n",
       "    </tr>\n",
       "    <tr>\n",
       "      <th>3214904</th>\n",
       "      <td>I99981631</td>\n",
       "      <td>I4210146600</td>\n",
       "      <td>2015-2019</td>\n",
       "      <td>0</td>\n",
       "      <td>1</td>\n",
       "    </tr>\n",
       "    <tr>\n",
       "      <th>3214905</th>\n",
       "      <td>I99981631</td>\n",
       "      <td>I4210146600</td>\n",
       "      <td>2020-2024</td>\n",
       "      <td>0</td>\n",
       "      <td>1</td>\n",
       "    </tr>\n",
       "    <tr>\n",
       "      <th>3214906</th>\n",
       "      <td>I99981631</td>\n",
       "      <td>I4210148175</td>\n",
       "      <td>2000-2004</td>\n",
       "      <td>2</td>\n",
       "      <td>1</td>\n",
       "    </tr>\n",
       "  </tbody>\n",
       "</table>\n",
       "<p>3214907 rows × 5 columns</p>\n",
       "</div>"
      ],
      "text/plain": [
       "           prev_ins institution_id  time_slot  level_distance  counts\n",
       "0        I100005738     I100191712  2005-2009               1       1\n",
       "1        I100005738      I10052268  2015-2019               1       1\n",
       "2        I100005738      I10052268  2020-2024               1       1\n",
       "3        I100005738     I100538780  1995-1999               1       1\n",
       "4        I100005738     I100633361  2015-2019               1       1\n",
       "...             ...            ...        ...             ...     ...\n",
       "3214902   I99981631    I4210099175  1990-1994               0       1\n",
       "3214903   I99981631    I4210099175  2000-2004               0       3\n",
       "3214904   I99981631    I4210146600  2015-2019               0       1\n",
       "3214905   I99981631    I4210146600  2020-2024               0       1\n",
       "3214906   I99981631    I4210148175  2000-2004               2       1\n",
       "\n",
       "[3214907 rows x 5 columns]"
      ]
     },
     "execution_count": 6,
     "metadata": {},
     "output_type": "execute_result"
    }
   ],
   "source": [
    "mdf['time_slot']  = pd.cut(mdf['move_time'].dt.year, bins=bins, labels=labels, right=False)\n",
    "\n",
    "movement_counts = mdf.groupby(['prev_ins', 'institution_id', 'time_slot', 'level_distance'], observed = True).size().reset_index(name='counts')\n",
    "\n",
    "movement_counts"
   ]
  },
  {
   "cell_type": "code",
   "execution_count": 7,
   "metadata": {},
   "outputs": [
    {
     "name": "stderr",
     "output_type": "stream",
     "text": [
      "/var/folders/5z/8hzvmhln5p36t4tdqc9c52z40000gn/T/ipykernel_92350/4117328574.py:4: FutureWarning: The default of observed=False is deprecated and will be changed to True in a future version of pandas. Pass observed=False to retain current behavior or observed=True to adopt the future default and silence this warning.\n",
      "  total_movements = mdf.groupby('time_slot').size().to_dict()\n",
      "/var/folders/5z/8hzvmhln5p36t4tdqc9c52z40000gn/T/ipykernel_92350/4117328574.py:7: FutureWarning: The default of observed=False is deprecated and will be changed to True in a future version of pandas. Pass observed=False to retain current behavior or observed=True to adopt the future default and silence this warning.\n",
      "  outflows = mdf.groupby(['time_slot', 'prev_ins']).size().to_dict()\n",
      "/var/folders/5z/8hzvmhln5p36t4tdqc9c52z40000gn/T/ipykernel_92350/4117328574.py:10: FutureWarning: The default of observed=False is deprecated and will be changed to True in a future version of pandas. Pass observed=False to retain current behavior or observed=True to adopt the future default and silence this warning.\n",
      "  inflows = mdf.groupby(['time_slot', 'institution_id']).size().to_dict()\n",
      "100%|██████████| 3214907/3214907 [00:19<00:00, 162020.73it/s]\n"
     ]
    }
   ],
   "source": [
    "import tqdm\n",
    "\n",
    "# 预计算总的移动数量\n",
    "total_movements = mdf.groupby('time_slot').size().to_dict()\n",
    "\n",
    "# 预计算每个时间段和前机构的流出数量\n",
    "outflows = mdf.groupby(['time_slot', 'prev_ins']).size().to_dict()\n",
    "\n",
    "# 预计算每个时间段和当前机构的流入数量\n",
    "inflows = mdf.groupby(['time_slot', 'institution_id']).size().to_dict()\n",
    "\n",
    "def calculate_simulated_movement(row):\n",
    "    time_slot = row['time_slot']\n",
    "    prev_ins = row['prev_ins']\n",
    "    institution_id = row['institution_id']\n",
    "\n",
    "    total_movements_count = total_movements.get(time_slot, 0)\n",
    "    outflow_count = outflows.get((time_slot, prev_ins), 0)\n",
    "    inflow_count = inflows.get((time_slot, institution_id), 0)\n",
    "\n",
    "    return (outflow_count * inflow_count) / total_movements_count if total_movements_count != 0 else 0\n",
    "\n",
    "tqdm.tqdm.pandas()\n",
    "\n",
    "movement_counts['Simulated_movement'] = movement_counts.progress_apply(calculate_simulated_movement, axis=1)"
   ]
  },
  {
   "cell_type": "code",
   "execution_count": 9,
   "metadata": {},
   "outputs": [
    {
     "data": {
      "text/plain": [
       "time_slot\n",
       "2020-2024    739979\n",
       "2015-2019    627788\n",
       "2010-2014    511481\n",
       "2005-2009    390666\n",
       "2000-2004    285352\n",
       "1995-1999    211201\n",
       "1990-1994    155584\n",
       "1985-1989    106753\n",
       "1980-1984     75700\n",
       "1975-1979     52809\n",
       "1970-1974     35658\n",
       "1965-1969     18772\n",
       "1960-1964      3164\n",
       "Name: count, dtype: int64"
      ]
     },
     "execution_count": 9,
     "metadata": {},
     "output_type": "execute_result"
    }
   ],
   "source": [
    "movement_counts['time_slot'].value_counts()"
   ]
  },
  {
   "cell_type": "code",
   "execution_count": 10,
   "metadata": {},
   "outputs": [],
   "source": [
    "movement_counts.to_csv('data/movement_counts.csv', index=False)"
   ]
  }
 ],
 "metadata": {
  "kernelspec": {
   "display_name": "ML",
   "language": "python",
   "name": "python3"
  },
  "language_info": {
   "codemirror_mode": {
    "name": "ipython",
    "version": 3
   },
   "file_extension": ".py",
   "mimetype": "text/x-python",
   "name": "python",
   "nbconvert_exporter": "python",
   "pygments_lexer": "ipython3",
   "version": "3.9.13"
  }
 },
 "nbformat": 4,
 "nbformat_minor": 2
}
